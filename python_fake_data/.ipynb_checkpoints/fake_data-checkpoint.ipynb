{
 "cells": [
  {
   "cell_type": "markdown",
   "metadata": {},
   "source": [
    "# Making fake APY Data"
   ]
  },
  {
   "cell_type": "code",
   "execution_count": 48,
   "metadata": {},
   "outputs": [],
   "source": [
    "import matplotlib.pyplot as plt\n",
    "import numpy as np\n",
    "import pandas as pd\n",
    "from datetime import datetime, timedelta\n",
    "import requests"
   ]
  },
  {
   "cell_type": "code",
   "execution_count": 49,
   "metadata": {},
   "outputs": [],
   "source": [
    "dr = pd.date_range(start=(datetime.now()-timedelta(days=90)).date(),end=datetime.now().date())"
   ]
  },
  {
   "cell_type": "code",
   "execution_count": 50,
   "metadata": {},
   "outputs": [],
   "source": [
    "# Taking the last 3 days worth of trading apy data\n",
    "# Get the prices from coingecko\n",
    "def gecko_prices(coins):    \n",
    "    url = ('https://api.coingecko.com/api/v3/simple/price?ids=%s' + '%%2C%s' * (len(coins)-1) +'&vs_currencies=USD') % tuple(coins)\n",
    "    res = requests.get(url)\n",
    "    gecko_prices = res.json()\n",
    "    return gecko_prices"
   ]
  },
  {
   "cell_type": "code",
   "execution_count": 51,
   "metadata": {},
   "outputs": [],
   "source": [
    "df = pd.DataFrame(index=dr)"
   ]
  },
  {
   "cell_type": "code",
   "execution_count": 52,
   "metadata": {},
   "outputs": [],
   "source": [
    "gecko_ids = {'ETH':'ethereum',\n",
    "             'USDT':'tether'}"
   ]
  },
  {
   "cell_type": "code",
   "execution_count": 53,
   "metadata": {},
   "outputs": [],
   "source": [
    "price_dict = gecko_prices(gecko_ids.values())"
   ]
  },
  {
   "cell_type": "code",
   "execution_count": 172,
   "metadata": {},
   "outputs": [],
   "source": [
    "def convert_time_str(timing):\n",
    "    time_int = int(timing[:-1])\n",
    "    time_str = timing[-1]\n",
    "    if time_str == 'H':\n",
    "        days = time_int/24\n",
    "        time_period = 'minute'\n",
    "    elif time_str == 'D':\n",
    "        days = time_int\n",
    "        time_period = 'daily'\n",
    "    elif time_str == 'W':\n",
    "        days = time_int * 7\n",
    "        time_period = 'hourly'\n",
    "    elif time_str == 'M':\n",
    "        days = time_int * 31\n",
    "        time_period = 'hourly'\n",
    "\n",
    "    return days, time_period\n",
    "\n",
    "\n",
    "\"\"\"\n",
    "Returns the coingecko data in a df from the ticker name\n",
    "\"\"\"\n",
    "def get_chart_data(coin, days=1, period='minutes'):\n",
    "\n",
    "    # Get the time string in hours for the api call to coingeckod\n",
    "#     print('https://api.coingecko.com/api/v3/coins/%s/market_chart?vs_currency=usd&days=%s&interval=%s' % (coin, days, period))\n",
    "    res = requests.get('https://api.coingecko.com/api/v3/coins/%s/market_chart?vs_currency=usd&days=%s&interval=%s' % (coin, days, period))\n",
    "    prices_res = res.json().get('prices')\n",
    "    \n",
    "    for price in prices_res:\n",
    "        dt_object = datetime.utcfromtimestamp(price[0]/1000)\n",
    "        price[0] = dt_object\n",
    "    df = pd.DataFrame(dict(time=[i[0] for i in prices_res],price=[i[1] for i in prices_res],))\n",
    "\n",
    "\n",
    "    return df"
   ]
  },
  {
   "cell_type": "code",
   "execution_count": 175,
   "metadata": {
    "scrolled": true
   },
   "outputs": [],
   "source": [
    "timing = '90D'\n",
    "coins = ['ETH', 'USDT']\n",
    "\n",
    "df = pd.DataFrame()\n",
    "\n",
    "for coin in coins:\n",
    "    self_gecko_dict, gecko_mcap = {}, {}\n",
    "\n",
    "    days, time_period = convert_time_str(timing)\n",
    "    new_df = get_chart_data(gecko_ids[coin], days=days, period=time_period)\n",
    "    new_df.rename(columns={'price':coin}, inplace=True)\n",
    "#     new_df['time'] = new_df['time'].dt.round('1h')  \n",
    "    if not df.empty:\n",
    "        df = df.merge(new_df)\n",
    "    else: \n",
    "        df = new_df"
   ]
  },
  {
   "cell_type": "code",
   "execution_count": 177,
   "metadata": {},
   "outputs": [],
   "source": [
    "df_yield = df.copy()"
   ]
  },
  {
   "cell_type": "code",
   "execution_count": 178,
   "metadata": {},
   "outputs": [],
   "source": [
    "df_yield['apy'] = [i for i in range(len(df_yield)-1,-1,-1)]"
   ]
  },
  {
   "cell_type": "code",
   "execution_count": 194,
   "metadata": {},
   "outputs": [],
   "source": [
    "df_yield['dollar'] = df_yield['ETH']"
   ]
  },
  {
   "cell_type": "code",
   "execution_count": 195,
   "metadata": {},
   "outputs": [],
   "source": [
    "df_yield['il_adj'] =  df_yield['ETH'].iloc[0] / df_yield['ETH'] * df_yield['ETH'].iloc[0]"
   ]
  },
  {
   "cell_type": "code",
   "execution_count": 201,
   "metadata": {},
   "outputs": [
    {
     "ename": "TypeError",
     "evalue": "return arrays must be of ArrayType",
     "output_type": "error",
     "traceback": [
      "\u001b[0;31m---------------------------------------------------------------------------\u001b[0m",
      "\u001b[0;31mTypeError\u001b[0m                                 Traceback (most recent call last)",
      "\u001b[0;32m<ipython-input-201-3889c99231f4>\u001b[0m in \u001b[0;36m<module>\u001b[0;34m\u001b[0m\n\u001b[0;32m----> 1\u001b[0;31m \u001b[0mnp\u001b[0m\u001b[0;34m.\u001b[0m\u001b[0mlog\u001b[0m\u001b[0;34m(\u001b[0m\u001b[0;36m365\u001b[0m\u001b[0;34m,\u001b[0m\u001b[0;36m1\u001b[0m\u001b[0;34m)\u001b[0m\u001b[0;34m\u001b[0m\u001b[0;34m\u001b[0m\u001b[0m\n\u001b[0m",
      "\u001b[0;31mTypeError\u001b[0m: return arrays must be of ArrayType"
     ]
    }
   ],
   "source": [
    "np.log(365)"
   ]
  },
  {
   "cell_type": "code",
   "execution_count": 188,
   "metadata": {},
   "outputs": [
    {
     "data": {
      "text/html": [
       "<div>\n",
       "<style scoped>\n",
       "    .dataframe tbody tr th:only-of-type {\n",
       "        vertical-align: middle;\n",
       "    }\n",
       "\n",
       "    .dataframe tbody tr th {\n",
       "        vertical-align: top;\n",
       "    }\n",
       "\n",
       "    .dataframe thead th {\n",
       "        text-align: right;\n",
       "    }\n",
       "</style>\n",
       "<table border=\"1\" class=\"dataframe\">\n",
       "  <thead>\n",
       "    <tr style=\"text-align: right;\">\n",
       "      <th></th>\n",
       "      <th>time</th>\n",
       "      <th>ETH</th>\n",
       "      <th>USDT</th>\n",
       "      <th>apy</th>\n",
       "      <th>dollar</th>\n",
       "      <th>il_adj</th>\n",
       "    </tr>\n",
       "  </thead>\n",
       "  <tbody>\n",
       "    <tr>\n",
       "      <th>0</th>\n",
       "      <td>2022-01-24</td>\n",
       "      <td>2537.836728</td>\n",
       "      <td>0.999980</td>\n",
       "      <td>89</td>\n",
       "      <td>2537.836728</td>\n",
       "      <td>2537.836728</td>\n",
       "    </tr>\n",
       "    <tr>\n",
       "      <th>1</th>\n",
       "      <td>2022-01-25</td>\n",
       "      <td>2447.831512</td>\n",
       "      <td>1.005232</td>\n",
       "      <td>88</td>\n",
       "      <td>2447.831512</td>\n",
       "      <td>2447.831512</td>\n",
       "    </tr>\n",
       "    <tr>\n",
       "      <th>2</th>\n",
       "      <td>2022-01-26</td>\n",
       "      <td>2465.219230</td>\n",
       "      <td>1.001428</td>\n",
       "      <td>87</td>\n",
       "      <td>2465.219230</td>\n",
       "      <td>2465.219230</td>\n",
       "    </tr>\n",
       "    <tr>\n",
       "      <th>3</th>\n",
       "      <td>2022-01-27</td>\n",
       "      <td>2470.430412</td>\n",
       "      <td>1.001630</td>\n",
       "      <td>86</td>\n",
       "      <td>2470.430412</td>\n",
       "      <td>2470.430412</td>\n",
       "    </tr>\n",
       "    <tr>\n",
       "      <th>4</th>\n",
       "      <td>2022-01-28</td>\n",
       "      <td>2411.863855</td>\n",
       "      <td>1.007038</td>\n",
       "      <td>85</td>\n",
       "      <td>2411.863855</td>\n",
       "      <td>2411.863855</td>\n",
       "    </tr>\n",
       "    <tr>\n",
       "      <th>...</th>\n",
       "      <td>...</td>\n",
       "      <td>...</td>\n",
       "      <td>...</td>\n",
       "      <td>...</td>\n",
       "      <td>...</td>\n",
       "      <td>...</td>\n",
       "    </tr>\n",
       "    <tr>\n",
       "      <th>85</th>\n",
       "      <td>2022-04-19</td>\n",
       "      <td>3061.890571</td>\n",
       "      <td>1.000781</td>\n",
       "      <td>4</td>\n",
       "      <td>3061.890571</td>\n",
       "      <td>3061.890571</td>\n",
       "    </tr>\n",
       "    <tr>\n",
       "      <th>86</th>\n",
       "      <td>2022-04-20</td>\n",
       "      <td>3104.688448</td>\n",
       "      <td>0.999666</td>\n",
       "      <td>3</td>\n",
       "      <td>3104.688448</td>\n",
       "      <td>3104.688448</td>\n",
       "    </tr>\n",
       "    <tr>\n",
       "      <th>87</th>\n",
       "      <td>2022-04-21</td>\n",
       "      <td>3079.676478</td>\n",
       "      <td>0.999995</td>\n",
       "      <td>2</td>\n",
       "      <td>3079.676478</td>\n",
       "      <td>3079.676478</td>\n",
       "    </tr>\n",
       "    <tr>\n",
       "      <th>88</th>\n",
       "      <td>2022-04-22</td>\n",
       "      <td>2987.488876</td>\n",
       "      <td>1.000616</td>\n",
       "      <td>1</td>\n",
       "      <td>2987.488876</td>\n",
       "      <td>2987.488876</td>\n",
       "    </tr>\n",
       "    <tr>\n",
       "      <th>89</th>\n",
       "      <td>2022-04-23</td>\n",
       "      <td>2967.085285</td>\n",
       "      <td>1.000141</td>\n",
       "      <td>0</td>\n",
       "      <td>2967.085285</td>\n",
       "      <td>2967.085285</td>\n",
       "    </tr>\n",
       "  </tbody>\n",
       "</table>\n",
       "<p>90 rows × 6 columns</p>\n",
       "</div>"
      ],
      "text/plain": [
       "         time          ETH      USDT  apy       dollar       il_adj\n",
       "0  2022-01-24  2537.836728  0.999980   89  2537.836728  2537.836728\n",
       "1  2022-01-25  2447.831512  1.005232   88  2447.831512  2447.831512\n",
       "2  2022-01-26  2465.219230  1.001428   87  2465.219230  2465.219230\n",
       "3  2022-01-27  2470.430412  1.001630   86  2470.430412  2470.430412\n",
       "4  2022-01-28  2411.863855  1.007038   85  2411.863855  2411.863855\n",
       "..        ...          ...       ...  ...          ...          ...\n",
       "85 2022-04-19  3061.890571  1.000781    4  3061.890571  3061.890571\n",
       "86 2022-04-20  3104.688448  0.999666    3  3104.688448  3104.688448\n",
       "87 2022-04-21  3079.676478  0.999995    2  3079.676478  3079.676478\n",
       "88 2022-04-22  2987.488876  1.000616    1  2987.488876  2987.488876\n",
       "89 2022-04-23  2967.085285  1.000141    0  2967.085285  2967.085285\n",
       "\n",
       "[90 rows x 6 columns]"
      ]
     },
     "execution_count": 188,
     "metadata": {},
     "output_type": "execute_result"
    }
   ],
   "source": [
    "df_yield['inc_yield'] = np"
   ]
  },
  {
   "cell_type": "code",
   "execution_count": 196,
   "metadata": {},
   "outputs": [
    {
     "data": {
      "text/html": [
       "<div>\n",
       "<style scoped>\n",
       "    .dataframe tbody tr th:only-of-type {\n",
       "        vertical-align: middle;\n",
       "    }\n",
       "\n",
       "    .dataframe tbody tr th {\n",
       "        vertical-align: top;\n",
       "    }\n",
       "\n",
       "    .dataframe thead th {\n",
       "        text-align: right;\n",
       "    }\n",
       "</style>\n",
       "<table border=\"1\" class=\"dataframe\">\n",
       "  <thead>\n",
       "    <tr style=\"text-align: right;\">\n",
       "      <th></th>\n",
       "      <th>time</th>\n",
       "      <th>ETH</th>\n",
       "      <th>USDT</th>\n",
       "      <th>apy</th>\n",
       "      <th>dollar</th>\n",
       "      <th>il_adj</th>\n",
       "    </tr>\n",
       "  </thead>\n",
       "  <tbody>\n",
       "    <tr>\n",
       "      <th>0</th>\n",
       "      <td>2022-01-24</td>\n",
       "      <td>2537.836728</td>\n",
       "      <td>0.999980</td>\n",
       "      <td>89</td>\n",
       "      <td>2537.836728</td>\n",
       "      <td>2537.836728</td>\n",
       "    </tr>\n",
       "    <tr>\n",
       "      <th>1</th>\n",
       "      <td>2022-01-25</td>\n",
       "      <td>2447.831512</td>\n",
       "      <td>1.005232</td>\n",
       "      <td>88</td>\n",
       "      <td>2447.831512</td>\n",
       "      <td>2631.151378</td>\n",
       "    </tr>\n",
       "    <tr>\n",
       "      <th>2</th>\n",
       "      <td>2022-01-26</td>\n",
       "      <td>2465.219230</td>\n",
       "      <td>1.001428</td>\n",
       "      <td>87</td>\n",
       "      <td>2465.219230</td>\n",
       "      <td>2612.593306</td>\n",
       "    </tr>\n",
       "    <tr>\n",
       "      <th>3</th>\n",
       "      <td>2022-01-27</td>\n",
       "      <td>2470.430412</td>\n",
       "      <td>1.001630</td>\n",
       "      <td>86</td>\n",
       "      <td>2470.430412</td>\n",
       "      <td>2607.082242</td>\n",
       "    </tr>\n",
       "    <tr>\n",
       "      <th>4</th>\n",
       "      <td>2022-01-28</td>\n",
       "      <td>2411.863855</td>\n",
       "      <td>1.007038</td>\n",
       "      <td>85</td>\n",
       "      <td>2411.863855</td>\n",
       "      <td>2670.389227</td>\n",
       "    </tr>\n",
       "    <tr>\n",
       "      <th>...</th>\n",
       "      <td>...</td>\n",
       "      <td>...</td>\n",
       "      <td>...</td>\n",
       "      <td>...</td>\n",
       "      <td>...</td>\n",
       "      <td>...</td>\n",
       "    </tr>\n",
       "    <tr>\n",
       "      <th>85</th>\n",
       "      <td>2022-04-19</td>\n",
       "      <td>3061.890571</td>\n",
       "      <td>1.000781</td>\n",
       "      <td>4</td>\n",
       "      <td>3061.890571</td>\n",
       "      <td>2103.476629</td>\n",
       "    </tr>\n",
       "    <tr>\n",
       "      <th>86</th>\n",
       "      <td>2022-04-20</td>\n",
       "      <td>3104.688448</td>\n",
       "      <td>0.999666</td>\n",
       "      <td>3</td>\n",
       "      <td>3104.688448</td>\n",
       "      <td>2074.480376</td>\n",
       "    </tr>\n",
       "    <tr>\n",
       "      <th>87</th>\n",
       "      <td>2022-04-21</td>\n",
       "      <td>3079.676478</td>\n",
       "      <td>0.999995</td>\n",
       "      <td>2</td>\n",
       "      <td>3079.676478</td>\n",
       "      <td>2091.328522</td>\n",
       "    </tr>\n",
       "    <tr>\n",
       "      <th>88</th>\n",
       "      <td>2022-04-22</td>\n",
       "      <td>2987.488876</td>\n",
       "      <td>1.000616</td>\n",
       "      <td>1</td>\n",
       "      <td>2987.488876</td>\n",
       "      <td>2155.862507</td>\n",
       "    </tr>\n",
       "    <tr>\n",
       "      <th>89</th>\n",
       "      <td>2022-04-23</td>\n",
       "      <td>2967.085285</td>\n",
       "      <td>1.000141</td>\n",
       "      <td>0</td>\n",
       "      <td>2967.085285</td>\n",
       "      <td>2170.687607</td>\n",
       "    </tr>\n",
       "  </tbody>\n",
       "</table>\n",
       "<p>90 rows × 6 columns</p>\n",
       "</div>"
      ],
      "text/plain": [
       "         time          ETH      USDT  apy       dollar       il_adj\n",
       "0  2022-01-24  2537.836728  0.999980   89  2537.836728  2537.836728\n",
       "1  2022-01-25  2447.831512  1.005232   88  2447.831512  2631.151378\n",
       "2  2022-01-26  2465.219230  1.001428   87  2465.219230  2612.593306\n",
       "3  2022-01-27  2470.430412  1.001630   86  2470.430412  2607.082242\n",
       "4  2022-01-28  2411.863855  1.007038   85  2411.863855  2670.389227\n",
       "..        ...          ...       ...  ...          ...          ...\n",
       "85 2022-04-19  3061.890571  1.000781    4  3061.890571  2103.476629\n",
       "86 2022-04-20  3104.688448  0.999666    3  3104.688448  2074.480376\n",
       "87 2022-04-21  3079.676478  0.999995    2  3079.676478  2091.328522\n",
       "88 2022-04-22  2987.488876  1.000616    1  2987.488876  2155.862507\n",
       "89 2022-04-23  2967.085285  1.000141    0  2967.085285  2170.687607\n",
       "\n",
       "[90 rows x 6 columns]"
      ]
     },
     "execution_count": 196,
     "metadata": {},
     "output_type": "execute_result"
    }
   ],
   "source": [
    "df_yield"
   ]
  },
  {
   "cell_type": "code",
   "execution_count": 189,
   "metadata": {},
   "outputs": [
    {
     "data": {
      "text/plain": [
       "[<matplotlib.lines.Line2D at 0x7fc1f13fc0d0>]"
      ]
     },
     "execution_count": 189,
     "metadata": {},
     "output_type": "execute_result"
    },
    {
     "data": {
      "image/png": "[encoded data removed]",
      "text/plain": [
       "<Figure size 720x360 with 1 Axes>"
      ]
     },
     "metadata": {
      "needs_background": "light"
     },
     "output_type": "display_data"
    }
   ],
   "source": [
    "fig = plt.figure(figsize=(10,5))\n",
    "plt.plot(df_yield.time, df_yield.apy)"
   ]
  },
  {
   "cell_type": "code",
   "execution_count": 182,
   "metadata": {},
   "outputs": [],
   "source": [
    "notif_level = 50"
   ]
  },
  {
   "cell_type": "code",
   "execution_count": null,
   "metadata": {},
   "outputs": [],
   "source": [
    "notif = {\"below threshold\"}"
   ]
  },
  {
   "cell_type": "code",
   "execution_count": null,
   "metadata": {},
   "outputs": [],
   "source": []
  },
  {
   "cell_type": "code",
   "execution_count": null,
   "metadata": {},
   "outputs": [],
   "source": []
  }
 ],
 "metadata": {
  "kernelspec": {
   "display_name": "venv",
   "language": "python",
   "name": "venv"
  },
  "language_info": {
   "codemirror_mode": {
    "name": "ipython",
    "version": 3
   },
   "file_extension": ".py",
   "mimetype": "text/x-python",
   "name": "python",
   "nbconvert_exporter": "python",
   "pygments_lexer": "ipython3",
   "version": "3.8.5"
  }
 },
 "nbformat": 4,
 "nbformat_minor": 4
}
